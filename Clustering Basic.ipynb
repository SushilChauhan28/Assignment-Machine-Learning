version https://git-lfs.github.com/spec/v1
oid sha256:c2332cfec72b1ccb26b16d6705bf7308580f59d788fcec2b7646c2affaa3bf96
size 400582
