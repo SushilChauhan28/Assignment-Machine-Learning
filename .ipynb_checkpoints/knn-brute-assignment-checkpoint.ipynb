version https://git-lfs.github.com/spec/v1
oid sha256:cbb1a19c3c37d41a5fc871c28bd263dd4f6b424945d30d1c63d58c55b1a4e598
size 27224
