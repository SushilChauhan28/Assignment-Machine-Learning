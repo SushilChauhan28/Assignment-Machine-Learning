{
 "cells": [
  {
   "cell_type": "code",
   "execution_count": 1,
   "metadata": {},
   "outputs": [
    {
     "name": "stderr",
     "output_type": "stream",
     "text": [
      "/home/sushil/anaconda3/lib/python3.7/site-packages/statsmodels/tools/_testing.py:19: FutureWarning: pandas.util.testing is deprecated. Use the functions in the public API at pandas.testing instead.\n",
      "  import pandas.util.testing as tm\n"
     ]
    }
   ],
   "source": [
    "import sqlite3\n",
    "import pandas as pd\n",
    "import matplotlib.pyplot as plt\n",
    "import seaborn as sns\n",
    "import numpy as np"
   ]
  },
  {
   "cell_type": "code",
   "execution_count": 2,
   "metadata": {},
   "outputs": [],
   "source": [
    "con=sqlite3.connect(\"/home/sushil/Downloads/databases/amazon-fine-food-reviews (1)/database.sqlite\")"
   ]
  },
  {
   "cell_type": "code",
   "execution_count": 3,
   "metadata": {},
   "outputs": [],
   "source": [
    "database=pd.read_sql_query(\"select * from reviews where score<> 3 limit 5000\",con)"
   ]
  },
  {
   "cell_type": "code",
   "execution_count": 4,
   "metadata": {},
   "outputs": [],
   "source": [
    "database=database[database.HelpfulnessNumerator<=database.HelpfulnessDenominator]"
   ]
  },
  {
   "cell_type": "code",
   "execution_count": 5,
   "metadata": {},
   "outputs": [],
   "source": [
    "database=database.sort_values(by=\"ProductId\")"
   ]
  },
  {
   "cell_type": "code",
   "execution_count": 6,
   "metadata": {},
   "outputs": [
    {
     "data": {
      "text/html": [
       "<div>\n",
       "<style scoped>\n",
       "    .dataframe tbody tr th:only-of-type {\n",
       "        vertical-align: middle;\n",
       "    }\n",
       "\n",
       "    .dataframe tbody tr th {\n",
       "        vertical-align: top;\n",
       "    }\n",
       "\n",
       "    .dataframe thead th {\n",
       "        text-align: right;\n",
       "    }\n",
       "</style>\n",
       "<table border=\"1\" class=\"dataframe\">\n",
       "  <thead>\n",
       "    <tr style=\"text-align: right;\">\n",
       "      <th></th>\n",
       "      <th>Id</th>\n",
       "      <th>ProductId</th>\n",
       "      <th>UserId</th>\n",
       "      <th>ProfileName</th>\n",
       "      <th>HelpfulnessNumerator</th>\n",
       "      <th>HelpfulnessDenominator</th>\n",
       "      <th>Score</th>\n",
       "      <th>Time</th>\n",
       "      <th>Summary</th>\n",
       "      <th>Text</th>\n",
       "    </tr>\n",
       "  </thead>\n",
       "  <tbody>\n",
       "    <tr>\n",
       "      <th>2546</th>\n",
       "      <td>2774</td>\n",
       "      <td>B00002NCJC</td>\n",
       "      <td>A196AJHU9EASJN</td>\n",
       "      <td>Alex Chaffee</td>\n",
       "      <td>0</td>\n",
       "      <td>0</td>\n",
       "      <td>4</td>\n",
       "      <td>1282953600</td>\n",
       "      <td>thirty bucks?</td>\n",
       "      <td>Why is this $[...] when the same product is av...</td>\n",
       "    </tr>\n",
       "    <tr>\n",
       "      <th>2547</th>\n",
       "      <td>2775</td>\n",
       "      <td>B00002NCJC</td>\n",
       "      <td>A13RRPGE79XFFH</td>\n",
       "      <td>reader48</td>\n",
       "      <td>0</td>\n",
       "      <td>0</td>\n",
       "      <td>5</td>\n",
       "      <td>1281052800</td>\n",
       "      <td>Flies Begone</td>\n",
       "      <td>We have used the Victor fly bait for 3 seasons...</td>\n",
       "    </tr>\n",
       "    <tr>\n",
       "      <th>1145</th>\n",
       "      <td>1244</td>\n",
       "      <td>B00002Z754</td>\n",
       "      <td>A3B8RCEI0FXFI6</td>\n",
       "      <td>B G Chase</td>\n",
       "      <td>10</td>\n",
       "      <td>10</td>\n",
       "      <td>5</td>\n",
       "      <td>962236800</td>\n",
       "      <td>WOW Make your own 'slickers' !</td>\n",
       "      <td>I just received my shipment and could hardly w...</td>\n",
       "    </tr>\n",
       "    <tr>\n",
       "      <th>1146</th>\n",
       "      <td>1245</td>\n",
       "      <td>B00002Z754</td>\n",
       "      <td>A29Z5PI9BW2PU3</td>\n",
       "      <td>Robbie</td>\n",
       "      <td>7</td>\n",
       "      <td>7</td>\n",
       "      <td>5</td>\n",
       "      <td>961718400</td>\n",
       "      <td>Great Product</td>\n",
       "      <td>This was a really good idea and the final prod...</td>\n",
       "    </tr>\n",
       "    <tr>\n",
       "      <th>2942</th>\n",
       "      <td>3204</td>\n",
       "      <td>B000084DVR</td>\n",
       "      <td>A1UGDJP1ZJWVPF</td>\n",
       "      <td>T. Moore \"thoughtful reader\"</td>\n",
       "      <td>1</td>\n",
       "      <td>1</td>\n",
       "      <td>5</td>\n",
       "      <td>1177977600</td>\n",
       "      <td>Good stuff!</td>\n",
       "      <td>I'm glad my 45lb cocker/standard poodle puppy ...</td>\n",
       "    </tr>\n",
       "    <tr>\n",
       "      <th>...</th>\n",
       "      <td>...</td>\n",
       "      <td>...</td>\n",
       "      <td>...</td>\n",
       "      <td>...</td>\n",
       "      <td>...</td>\n",
       "      <td>...</td>\n",
       "      <td>...</td>\n",
       "      <td>...</td>\n",
       "      <td>...</td>\n",
       "      <td>...</td>\n",
       "    </tr>\n",
       "    <tr>\n",
       "      <th>711</th>\n",
       "      <td>765</td>\n",
       "      <td>B009HINRX8</td>\n",
       "      <td>A1OEL4UZT3KKI4</td>\n",
       "      <td>coffee drinker in PA \"coffee drinker in PA\"</td>\n",
       "      <td>0</td>\n",
       "      <td>0</td>\n",
       "      <td>5</td>\n",
       "      <td>1344988800</td>\n",
       "      <td>great coffee - terrible price</td>\n",
       "      <td>This is one of the best choices, in my opinion...</td>\n",
       "    </tr>\n",
       "    <tr>\n",
       "      <th>710</th>\n",
       "      <td>764</td>\n",
       "      <td>B009HINRX8</td>\n",
       "      <td>ADDBLG0CFY9AI</td>\n",
       "      <td>S.A.D.</td>\n",
       "      <td>1</td>\n",
       "      <td>1</td>\n",
       "      <td>5</td>\n",
       "      <td>1326758400</td>\n",
       "      <td>Best of the Tassimo's</td>\n",
       "      <td>We've tried many Tassimo flavors.  This is by ...</td>\n",
       "    </tr>\n",
       "    <tr>\n",
       "      <th>709</th>\n",
       "      <td>763</td>\n",
       "      <td>B009HINRX8</td>\n",
       "      <td>A3N9477PUE6WMR</td>\n",
       "      <td>patc477</td>\n",
       "      <td>4</td>\n",
       "      <td>4</td>\n",
       "      <td>5</td>\n",
       "      <td>1323302400</td>\n",
       "      <td>Good Tasting cup o' joe</td>\n",
       "      <td>This is a bold blend that has a great taste. T...</td>\n",
       "    </tr>\n",
       "    <tr>\n",
       "      <th>713</th>\n",
       "      <td>768</td>\n",
       "      <td>B009HINRX8</td>\n",
       "      <td>A2CAZG1CQ8BQI5</td>\n",
       "      <td>Patricia J. Nohalty</td>\n",
       "      <td>0</td>\n",
       "      <td>0</td>\n",
       "      <td>5</td>\n",
       "      <td>1337212800</td>\n",
       "      <td>Kona for Tassimo</td>\n",
       "      <td>Of all the coffee's available for Tassimo this...</td>\n",
       "    </tr>\n",
       "    <tr>\n",
       "      <th>1362</th>\n",
       "      <td>1478</td>\n",
       "      <td>B009UOFU20</td>\n",
       "      <td>AJVB004EB0MVK</td>\n",
       "      <td>D. Christofferson</td>\n",
       "      <td>0</td>\n",
       "      <td>0</td>\n",
       "      <td>1</td>\n",
       "      <td>1345852800</td>\n",
       "      <td>weak coffee not good for a premium product and...</td>\n",
       "      <td>This coffee supposedly is premium, it tastes w...</td>\n",
       "    </tr>\n",
       "  </tbody>\n",
       "</table>\n",
       "<p>5000 rows × 10 columns</p>\n",
       "</div>"
      ],
      "text/plain": [
       "        Id   ProductId          UserId  \\\n",
       "2546  2774  B00002NCJC  A196AJHU9EASJN   \n",
       "2547  2775  B00002NCJC  A13RRPGE79XFFH   \n",
       "1145  1244  B00002Z754  A3B8RCEI0FXFI6   \n",
       "1146  1245  B00002Z754  A29Z5PI9BW2PU3   \n",
       "2942  3204  B000084DVR  A1UGDJP1ZJWVPF   \n",
       "...    ...         ...             ...   \n",
       "711    765  B009HINRX8  A1OEL4UZT3KKI4   \n",
       "710    764  B009HINRX8   ADDBLG0CFY9AI   \n",
       "709    763  B009HINRX8  A3N9477PUE6WMR   \n",
       "713    768  B009HINRX8  A2CAZG1CQ8BQI5   \n",
       "1362  1478  B009UOFU20   AJVB004EB0MVK   \n",
       "\n",
       "                                      ProfileName  HelpfulnessNumerator  \\\n",
       "2546                                 Alex Chaffee                     0   \n",
       "2547                                     reader48                     0   \n",
       "1145                                    B G Chase                    10   \n",
       "1146                                       Robbie                     7   \n",
       "2942                 T. Moore \"thoughtful reader\"                     1   \n",
       "...                                           ...                   ...   \n",
       "711   coffee drinker in PA \"coffee drinker in PA\"                     0   \n",
       "710                                        S.A.D.                     1   \n",
       "709                                       patc477                     4   \n",
       "713                           Patricia J. Nohalty                     0   \n",
       "1362                            D. Christofferson                     0   \n",
       "\n",
       "      HelpfulnessDenominator  Score        Time  \\\n",
       "2546                       0      4  1282953600   \n",
       "2547                       0      5  1281052800   \n",
       "1145                      10      5   962236800   \n",
       "1146                       7      5   961718400   \n",
       "2942                       1      5  1177977600   \n",
       "...                      ...    ...         ...   \n",
       "711                        0      5  1344988800   \n",
       "710                        1      5  1326758400   \n",
       "709                        4      5  1323302400   \n",
       "713                        0      5  1337212800   \n",
       "1362                       0      1  1345852800   \n",
       "\n",
       "                                                Summary  \\\n",
       "2546                                      thirty bucks?   \n",
       "2547                                       Flies Begone   \n",
       "1145                     WOW Make your own 'slickers' !   \n",
       "1146                                      Great Product   \n",
       "2942                                        Good stuff!   \n",
       "...                                                 ...   \n",
       "711                       great coffee - terrible price   \n",
       "710                               Best of the Tassimo's   \n",
       "709                             Good Tasting cup o' joe   \n",
       "713                                    Kona for Tassimo   \n",
       "1362  weak coffee not good for a premium product and...   \n",
       "\n",
       "                                                   Text  \n",
       "2546  Why is this $[...] when the same product is av...  \n",
       "2547  We have used the Victor fly bait for 3 seasons...  \n",
       "1145  I just received my shipment and could hardly w...  \n",
       "1146  This was a really good idea and the final prod...  \n",
       "2942  I'm glad my 45lb cocker/standard poodle puppy ...  \n",
       "...                                                 ...  \n",
       "711   This is one of the best choices, in my opinion...  \n",
       "710   We've tried many Tassimo flavors.  This is by ...  \n",
       "709   This is a bold blend that has a great taste. T...  \n",
       "713   Of all the coffee's available for Tassimo this...  \n",
       "1362  This coffee supposedly is premium, it tastes w...  \n",
       "\n",
       "[5000 rows x 10 columns]"
      ]
     },
     "execution_count": 6,
     "metadata": {},
     "output_type": "execute_result"
    }
   ],
   "source": [
    "database"
   ]
  },
  {
   "cell_type": "code",
   "execution_count": 7,
   "metadata": {},
   "outputs": [],
   "source": [
    "database=database.drop_duplicates([\"ProductId\",\"UserId\",\"Score\",\"Time\",\"Summary\",\"Text\"])"
   ]
  },
  {
   "cell_type": "code",
   "execution_count": 8,
   "metadata": {
    "scrolled": true
   },
   "outputs": [
    {
     "data": {
      "text/html": [
       "<div>\n",
       "<style scoped>\n",
       "    .dataframe tbody tr th:only-of-type {\n",
       "        vertical-align: middle;\n",
       "    }\n",
       "\n",
       "    .dataframe tbody tr th {\n",
       "        vertical-align: top;\n",
       "    }\n",
       "\n",
       "    .dataframe thead th {\n",
       "        text-align: right;\n",
       "    }\n",
       "</style>\n",
       "<table border=\"1\" class=\"dataframe\">\n",
       "  <thead>\n",
       "    <tr style=\"text-align: right;\">\n",
       "      <th></th>\n",
       "      <th>Id</th>\n",
       "      <th>ProductId</th>\n",
       "      <th>UserId</th>\n",
       "      <th>ProfileName</th>\n",
       "      <th>HelpfulnessNumerator</th>\n",
       "      <th>HelpfulnessDenominator</th>\n",
       "      <th>Score</th>\n",
       "      <th>Time</th>\n",
       "      <th>Summary</th>\n",
       "      <th>Text</th>\n",
       "    </tr>\n",
       "  </thead>\n",
       "  <tbody>\n",
       "    <tr>\n",
       "      <th>2546</th>\n",
       "      <td>2774</td>\n",
       "      <td>B00002NCJC</td>\n",
       "      <td>A196AJHU9EASJN</td>\n",
       "      <td>Alex Chaffee</td>\n",
       "      <td>0</td>\n",
       "      <td>0</td>\n",
       "      <td>4</td>\n",
       "      <td>1282953600</td>\n",
       "      <td>thirty bucks?</td>\n",
       "      <td>Why is this $[...] when the same product is av...</td>\n",
       "    </tr>\n",
       "    <tr>\n",
       "      <th>2547</th>\n",
       "      <td>2775</td>\n",
       "      <td>B00002NCJC</td>\n",
       "      <td>A13RRPGE79XFFH</td>\n",
       "      <td>reader48</td>\n",
       "      <td>0</td>\n",
       "      <td>0</td>\n",
       "      <td>5</td>\n",
       "      <td>1281052800</td>\n",
       "      <td>Flies Begone</td>\n",
       "      <td>We have used the Victor fly bait for 3 seasons...</td>\n",
       "    </tr>\n",
       "    <tr>\n",
       "      <th>1145</th>\n",
       "      <td>1244</td>\n",
       "      <td>B00002Z754</td>\n",
       "      <td>A3B8RCEI0FXFI6</td>\n",
       "      <td>B G Chase</td>\n",
       "      <td>10</td>\n",
       "      <td>10</td>\n",
       "      <td>5</td>\n",
       "      <td>962236800</td>\n",
       "      <td>WOW Make your own 'slickers' !</td>\n",
       "      <td>I just received my shipment and could hardly w...</td>\n",
       "    </tr>\n",
       "    <tr>\n",
       "      <th>1146</th>\n",
       "      <td>1245</td>\n",
       "      <td>B00002Z754</td>\n",
       "      <td>A29Z5PI9BW2PU3</td>\n",
       "      <td>Robbie</td>\n",
       "      <td>7</td>\n",
       "      <td>7</td>\n",
       "      <td>5</td>\n",
       "      <td>961718400</td>\n",
       "      <td>Great Product</td>\n",
       "      <td>This was a really good idea and the final prod...</td>\n",
       "    </tr>\n",
       "    <tr>\n",
       "      <th>2942</th>\n",
       "      <td>3204</td>\n",
       "      <td>B000084DVR</td>\n",
       "      <td>A1UGDJP1ZJWVPF</td>\n",
       "      <td>T. Moore \"thoughtful reader\"</td>\n",
       "      <td>1</td>\n",
       "      <td>1</td>\n",
       "      <td>5</td>\n",
       "      <td>1177977600</td>\n",
       "      <td>Good stuff!</td>\n",
       "      <td>I'm glad my 45lb cocker/standard poodle puppy ...</td>\n",
       "    </tr>\n",
       "    <tr>\n",
       "      <th>...</th>\n",
       "      <td>...</td>\n",
       "      <td>...</td>\n",
       "      <td>...</td>\n",
       "      <td>...</td>\n",
       "      <td>...</td>\n",
       "      <td>...</td>\n",
       "      <td>...</td>\n",
       "      <td>...</td>\n",
       "      <td>...</td>\n",
       "      <td>...</td>\n",
       "    </tr>\n",
       "    <tr>\n",
       "      <th>711</th>\n",
       "      <td>765</td>\n",
       "      <td>B009HINRX8</td>\n",
       "      <td>A1OEL4UZT3KKI4</td>\n",
       "      <td>coffee drinker in PA \"coffee drinker in PA\"</td>\n",
       "      <td>0</td>\n",
       "      <td>0</td>\n",
       "      <td>5</td>\n",
       "      <td>1344988800</td>\n",
       "      <td>great coffee - terrible price</td>\n",
       "      <td>This is one of the best choices, in my opinion...</td>\n",
       "    </tr>\n",
       "    <tr>\n",
       "      <th>710</th>\n",
       "      <td>764</td>\n",
       "      <td>B009HINRX8</td>\n",
       "      <td>ADDBLG0CFY9AI</td>\n",
       "      <td>S.A.D.</td>\n",
       "      <td>1</td>\n",
       "      <td>1</td>\n",
       "      <td>5</td>\n",
       "      <td>1326758400</td>\n",
       "      <td>Best of the Tassimo's</td>\n",
       "      <td>We've tried many Tassimo flavors.  This is by ...</td>\n",
       "    </tr>\n",
       "    <tr>\n",
       "      <th>709</th>\n",
       "      <td>763</td>\n",
       "      <td>B009HINRX8</td>\n",
       "      <td>A3N9477PUE6WMR</td>\n",
       "      <td>patc477</td>\n",
       "      <td>4</td>\n",
       "      <td>4</td>\n",
       "      <td>5</td>\n",
       "      <td>1323302400</td>\n",
       "      <td>Good Tasting cup o' joe</td>\n",
       "      <td>This is a bold blend that has a great taste. T...</td>\n",
       "    </tr>\n",
       "    <tr>\n",
       "      <th>713</th>\n",
       "      <td>768</td>\n",
       "      <td>B009HINRX8</td>\n",
       "      <td>A2CAZG1CQ8BQI5</td>\n",
       "      <td>Patricia J. Nohalty</td>\n",
       "      <td>0</td>\n",
       "      <td>0</td>\n",
       "      <td>5</td>\n",
       "      <td>1337212800</td>\n",
       "      <td>Kona for Tassimo</td>\n",
       "      <td>Of all the coffee's available for Tassimo this...</td>\n",
       "    </tr>\n",
       "    <tr>\n",
       "      <th>1362</th>\n",
       "      <td>1478</td>\n",
       "      <td>B009UOFU20</td>\n",
       "      <td>AJVB004EB0MVK</td>\n",
       "      <td>D. Christofferson</td>\n",
       "      <td>0</td>\n",
       "      <td>0</td>\n",
       "      <td>1</td>\n",
       "      <td>1345852800</td>\n",
       "      <td>weak coffee not good for a premium product and...</td>\n",
       "      <td>This coffee supposedly is premium, it tastes w...</td>\n",
       "    </tr>\n",
       "  </tbody>\n",
       "</table>\n",
       "<p>4997 rows × 10 columns</p>\n",
       "</div>"
      ],
      "text/plain": [
       "        Id   ProductId          UserId  \\\n",
       "2546  2774  B00002NCJC  A196AJHU9EASJN   \n",
       "2547  2775  B00002NCJC  A13RRPGE79XFFH   \n",
       "1145  1244  B00002Z754  A3B8RCEI0FXFI6   \n",
       "1146  1245  B00002Z754  A29Z5PI9BW2PU3   \n",
       "2942  3204  B000084DVR  A1UGDJP1ZJWVPF   \n",
       "...    ...         ...             ...   \n",
       "711    765  B009HINRX8  A1OEL4UZT3KKI4   \n",
       "710    764  B009HINRX8   ADDBLG0CFY9AI   \n",
       "709    763  B009HINRX8  A3N9477PUE6WMR   \n",
       "713    768  B009HINRX8  A2CAZG1CQ8BQI5   \n",
       "1362  1478  B009UOFU20   AJVB004EB0MVK   \n",
       "\n",
       "                                      ProfileName  HelpfulnessNumerator  \\\n",
       "2546                                 Alex Chaffee                     0   \n",
       "2547                                     reader48                     0   \n",
       "1145                                    B G Chase                    10   \n",
       "1146                                       Robbie                     7   \n",
       "2942                 T. Moore \"thoughtful reader\"                     1   \n",
       "...                                           ...                   ...   \n",
       "711   coffee drinker in PA \"coffee drinker in PA\"                     0   \n",
       "710                                        S.A.D.                     1   \n",
       "709                                       patc477                     4   \n",
       "713                           Patricia J. Nohalty                     0   \n",
       "1362                            D. Christofferson                     0   \n",
       "\n",
       "      HelpfulnessDenominator  Score        Time  \\\n",
       "2546                       0      4  1282953600   \n",
       "2547                       0      5  1281052800   \n",
       "1145                      10      5   962236800   \n",
       "1146                       7      5   961718400   \n",
       "2942                       1      5  1177977600   \n",
       "...                      ...    ...         ...   \n",
       "711                        0      5  1344988800   \n",
       "710                        1      5  1326758400   \n",
       "709                        4      5  1323302400   \n",
       "713                        0      5  1337212800   \n",
       "1362                       0      1  1345852800   \n",
       "\n",
       "                                                Summary  \\\n",
       "2546                                      thirty bucks?   \n",
       "2547                                       Flies Begone   \n",
       "1145                     WOW Make your own 'slickers' !   \n",
       "1146                                      Great Product   \n",
       "2942                                        Good stuff!   \n",
       "...                                                 ...   \n",
       "711                       great coffee - terrible price   \n",
       "710                               Best of the Tassimo's   \n",
       "709                             Good Tasting cup o' joe   \n",
       "713                                    Kona for Tassimo   \n",
       "1362  weak coffee not good for a premium product and...   \n",
       "\n",
       "                                                   Text  \n",
       "2546  Why is this $[...] when the same product is av...  \n",
       "2547  We have used the Victor fly bait for 3 seasons...  \n",
       "1145  I just received my shipment and could hardly w...  \n",
       "1146  This was a really good idea and the final prod...  \n",
       "2942  I'm glad my 45lb cocker/standard poodle puppy ...  \n",
       "...                                                 ...  \n",
       "711   This is one of the best choices, in my opinion...  \n",
       "710   We've tried many Tassimo flavors.  This is by ...  \n",
       "709   This is a bold blend that has a great taste. T...  \n",
       "713   Of all the coffee's available for Tassimo this...  \n",
       "1362  This coffee supposedly is premium, it tastes w...  \n",
       "\n",
       "[4997 rows x 10 columns]"
      ]
     },
     "execution_count": 8,
     "metadata": {},
     "output_type": "execute_result"
    }
   ],
   "source": [
    "database"
   ]
  },
  {
   "cell_type": "code",
   "execution_count": 9,
   "metadata": {},
   "outputs": [],
   "source": [
    "def partition(x):\n",
    "    if x>3:\n",
    "        return 1\n",
    "    return 0"
   ]
  },
  {
   "cell_type": "code",
   "execution_count": 10,
   "metadata": {
    "scrolled": true
   },
   "outputs": [
    {
     "name": "stderr",
     "output_type": "stream",
     "text": [
      "/home/sushil/anaconda3/lib/python3.7/site-packages/pandas/core/generic.py:5303: SettingWithCopyWarning: \n",
      "A value is trying to be set on a copy of a slice from a DataFrame.\n",
      "Try using .loc[row_indexer,col_indexer] = value instead\n",
      "\n",
      "See the caveats in the documentation: https://pandas.pydata.org/pandas-docs/stable/user_guide/indexing.html#returning-a-view-versus-a-copy\n",
      "  self[name] = value\n"
     ]
    }
   ],
   "source": [
    "database.Score=database.Score.map(partition)"
   ]
  },
  {
   "cell_type": "code",
   "execution_count": 13,
   "metadata": {
    "scrolled": true
   },
   "outputs": [
    {
     "data": {
      "text/plain": [
       "1    4186\n",
       "0     811\n",
       "Name: Score, dtype: int64"
      ]
     },
     "execution_count": 13,
     "metadata": {},
     "output_type": "execute_result"
    }
   ],
   "source": [
    "database.Score.value_counts()"
   ]
  },
  {
   "cell_type": "code",
   "execution_count": 14,
   "metadata": {},
   "outputs": [
    {
     "data": {
      "text/plain": [
       "'Why is this $[...] when the same product is available for $[...] here?<br />http://www.amazon.com/VICTOR-FLY-MAGNET-BAIT-REFILL/dp/B00004RBDY<br /><br />The Victor M380 and M502 traps are unreal, of course -- total fly genocide. Pretty stinky, but only right nearby.'"
      ]
     },
     "execution_count": 14,
     "metadata": {},
     "output_type": "execute_result"
    }
   ],
   "source": [
    "database.Text[2546]"
   ]
  },
  {
   "cell_type": "code",
   "execution_count": 15,
   "metadata": {},
   "outputs": [],
   "source": [
    "def preprocess_text(sentence):\n",
    "    def remove_html(sentence):\n",
    "        html_tag_re_obj = re.compile('<.*>?')\n",
    "        return re.sub(html_tag_re_obj, ' ', sentence)\n",
    "\n",
    "    def remove_punctuations(sentence):\n",
    "        cleaned_sentence = re.sub(r'[^a-zA-Z]', r' ', sentence)\n",
    "        return cleaned_sentence\n",
    "\n",
    "    def decontracted(phrase):\n",
    "        # specific\n",
    "        phrase = re.sub(r\"won\\'t\", \"will not\", phrase)\n",
    "        phrase = re.sub(r\"can\\'t\", \"can not\", phrase)\n",
    "\n",
    "        # general\n",
    "        phrase = re.sub(r\"n\\'t\", \" not\", phrase)\n",
    "        phrase = re.sub(r\"\\'re\", \" are\", phrase)\n",
    "        phrase = re.sub(r\"\\'s\", \" is\", phrase)\n",
    "        phrase = re.sub(r\"\\'d\", \" would\", phrase)\n",
    "        phrase = re.sub(r\"\\'ll\", \" will\", phrase)\n",
    "        phrase = re.sub(r\"\\'t\", \" not\", phrase)\n",
    "        phrase = re.sub(r\"\\'ve\", \" have\", phrase)\n",
    "        phrase = re.sub(r\"\\'m\", \" am\", phrase)\n",
    "        return phrase\n",
    "\n",
    "    from bs4 import BeautifulSoup\n",
    "    #from nltk.corpus import stopwords\n",
    "    import nltk\n",
    "    from tqdm import tqdm\n",
    "    from nltk.stem import SnowballStemmer\n",
    "    from nltk.corpus import stopwords\n",
    "    stopwords = stopwords.words('english')\n",
    "    stemmer = SnowballStemmer('english')\n",
    "    stopwords = set(stopwords)\n",
    "    stopwords.remove('not')\n",
    "\n",
    "    cleaned_corpus = []\n",
    "    for doc in sentence:\n",
    "        cleaned_doc_1 = remove_html(doc)\n",
    "        cleaned_doc_2 = remove_punctuations(doc)\n",
    "        cleaned_doc_2 = decontracted(cleaned_doc_2)\n",
    "        cleaned_corpus.append(cleaned_doc_2)\n",
    "    count = 0\n",
    "\n",
    "    filtered_corpus = list(map(lambda doc: ' '.join(list(filter(lambda word: True if word not in stopwords else False\\\n",
    "                                                                , doc.split()))),cleaned_corpus))\n",
    "    process_text = list(map(lambda doc: ' '.join(list(map(stemmer.stem, doc.split()))),filtered_corpus))\n",
    "\n",
    "    return process_text"
   ]
  },
  {
   "cell_type": "code",
   "execution_count": 16,
   "metadata": {},
   "outputs": [],
   "source": [
    "text=database.Text"
   ]
  },
  {
   "cell_type": "code",
   "execution_count": 17,
   "metadata": {},
   "outputs": [
    {
     "data": {
      "text/plain": [
       "'Why is this $[...] when the same product is available for $[...] here?<br />http://www.amazon.com/VICTOR-FLY-MAGNET-BAIT-REFILL/dp/B00004RBDY<br /><br />The Victor M380 and M502 traps are unreal, of course -- total fly genocide. Pretty stinky, but only right nearby.'"
      ]
     },
     "execution_count": 17,
     "metadata": {},
     "output_type": "execute_result"
    }
   ],
   "source": [
    "text[2546]"
   ]
  },
  {
   "cell_type": "code",
   "execution_count": 18,
   "metadata": {},
   "outputs": [],
   "source": [
    "import re\n",
    "cleaned_text=preprocess_text(text)"
   ]
  },
  {
   "cell_type": "code",
   "execution_count": 19,
   "metadata": {},
   "outputs": [
    {
     "data": {
      "text/plain": [
       "'we use victor fli bait season can beat great product'"
      ]
     },
     "execution_count": 19,
     "metadata": {},
     "output_type": "execute_result"
    }
   ],
   "source": [
    "cleaned_text[1]"
   ]
  },
  {
   "cell_type": "code",
   "execution_count": 20,
   "metadata": {},
   "outputs": [],
   "source": [
    "X=cleaned_text"
   ]
  },
  {
   "cell_type": "code",
   "execution_count": 21,
   "metadata": {},
   "outputs": [],
   "source": [
    "y=database.Score"
   ]
  },
  {
   "cell_type": "code",
   "execution_count": 22,
   "metadata": {},
   "outputs": [
    {
     "name": "stdout",
     "output_type": "stream",
     "text": [
      "(4997,)\n",
      "4997\n"
     ]
    }
   ],
   "source": [
    "print(y.shape)\n",
    "print(len(X))"
   ]
  },
  {
   "cell_type": "code",
   "execution_count": 23,
   "metadata": {},
   "outputs": [],
   "source": [
    "from sklearn.model_selection import train_test_split"
   ]
  },
  {
   "cell_type": "code",
   "execution_count": 24,
   "metadata": {},
   "outputs": [],
   "source": [
    "x_train,x_test,y_train,y_test=train_test_split(X, y, test_size=0.3, random_state=42)"
   ]
  },
  {
   "cell_type": "code",
   "execution_count": 25,
   "metadata": {},
   "outputs": [
    {
     "name": "stdout",
     "output_type": "stream",
     "text": [
      "3497\n",
      "1500\n",
      "(3497,)\n",
      "(1500,)\n"
     ]
    }
   ],
   "source": [
    "print(len(x_train))\n",
    "print(len(x_test))\n",
    "print(y_train.shape)\n",
    "print(y_test.shape)"
   ]
  },
  {
   "cell_type": "code",
   "execution_count": 26,
   "metadata": {},
   "outputs": [
    {
     "data": {
      "text/plain": [
       "1    2915\n",
       "0     582\n",
       "Name: Score, dtype: int64"
      ]
     },
     "execution_count": 26,
     "metadata": {},
     "output_type": "execute_result"
    }
   ],
   "source": [
    "y_train.value_counts()"
   ]
  },
  {
   "cell_type": "code",
   "execution_count": 27,
   "metadata": {},
   "outputs": [],
   "source": [
    "from sklearn.feature_extraction.text import CountVectorizer"
   ]
  },
  {
   "cell_type": "code",
   "execution_count": 28,
   "metadata": {},
   "outputs": [],
   "source": [
    "bow=CountVectorizer(min_df=10)"
   ]
  },
  {
   "cell_type": "code",
   "execution_count": 29,
   "metadata": {},
   "outputs": [
    {
     "data": {
      "text/plain": [
       "CountVectorizer(analyzer='word', binary=False, decode_error='strict',\n",
       "                dtype=<class 'numpy.int64'>, encoding='utf-8', input='content',\n",
       "                lowercase=True, max_df=1.0, max_features=None, min_df=10,\n",
       "                ngram_range=(1, 1), preprocessor=None, stop_words=None,\n",
       "                strip_accents=None, token_pattern='(?u)\\\\b\\\\w\\\\w+\\\\b',\n",
       "                tokenizer=None, vocabulary=None)"
      ]
     },
     "execution_count": 29,
     "metadata": {},
     "output_type": "execute_result"
    }
   ],
   "source": [
    "bow.fit(x_train)"
   ]
  },
  {
   "cell_type": "code",
   "execution_count": 31,
   "metadata": {},
   "outputs": [
    {
     "name": "stdout",
     "output_type": "stream",
     "text": [
      "  (0, 242)\t1\n",
      "  (0, 459)\t1\n",
      "  (0, 515)\t1\n",
      "  (0, 594)\t2\n",
      "  (0, 598)\t1\n",
      "  (0, 1021)\t1\n",
      "  (0, 1158)\t1\n",
      "  (0, 1385)\t1\n",
      "  (0, 1461)\t2\n",
      "  (1, 42)\t1\n",
      "  (1, 99)\t2\n",
      "  (1, 100)\t1\n",
      "  (1, 155)\t1\n",
      "  (1, 168)\t2\n",
      "  (1, 196)\t1\n",
      "  (1, 320)\t1\n",
      "  (1, 429)\t1\n",
      "  (1, 487)\t1\n",
      "  (1, 524)\t3\n",
      "  (1, 581)\t3\n",
      "  (1, 712)\t1\n",
      "  (1, 806)\t1\n",
      "  (1, 846)\t1\n",
      "  (1, 960)\t1\n",
      "  (1, 1097)\t1\n",
      "  :\t:\n",
      "  (3495, 491)\t1\n",
      "  (3495, 537)\t1\n",
      "  (3495, 771)\t1\n",
      "  (3495, 800)\t1\n",
      "  (3495, 806)\t1\n",
      "  (3495, 856)\t1\n",
      "  (3495, 899)\t1\n",
      "  (3495, 970)\t1\n",
      "  (3495, 1052)\t1\n",
      "  (3495, 1089)\t1\n",
      "  (3495, 1167)\t1\n",
      "  (3495, 1353)\t1\n",
      "  (3495, 1382)\t1\n",
      "  (3495, 1428)\t1\n",
      "  (3495, 1486)\t1\n",
      "  (3495, 1541)\t1\n",
      "  (3496, 249)\t1\n",
      "  (3496, 520)\t1\n",
      "  (3496, 672)\t1\n",
      "  (3496, 793)\t1\n",
      "  (3496, 877)\t1\n",
      "  (3496, 989)\t1\n",
      "  (3496, 992)\t1\n",
      "  (3496, 1383)\t1\n",
      "  (3496, 1428)\t1\n"
     ]
    }
   ],
   "source": [
    "x_train_bow=bow.transform(x_train)\n",
    "print(x_train_bow)\n",
    "x_text_bow=bow.transform(x_test)"
   ]
  },
  {
   "cell_type": "code",
   "execution_count": 34,
   "metadata": {},
   "outputs": [
    {
     "name": "stdout",
     "output_type": "stream",
     "text": [
      "(3497, 1564)\n",
      "(1500, 1564)\n"
     ]
    }
   ],
   "source": [
    "print(x_train_bow.shape)\n",
    "print(x_text_bow.shape)"
   ]
  },
  {
   "cell_type": "code",
   "execution_count": 35,
   "metadata": {},
   "outputs": [],
   "source": [
    "from sklearn.model_selection import train_test_split\n",
    "from sklearn.metrics import confusion_matrix\n",
    "from sklearn.neighbors import KNeighborsClassifier\n",
    "from sklearn.metrics import roc_auc_score\n",
    "from sklearn.model_selection import RandomizedSearchCV\n",
    "from sklearn.model_selection import GridSearchCV\n",
    "import joblib\n",
    "from sklearn.metrics import classification_report\n",
    "from sklearn.metrics import accuracy_score\n",
    "from sklearn.naive_bayes import BernoulliNB\n",
    "from sklearn.naive_bayes import GaussianNB\n",
    "from sklearn.naive_bayes import MultinomialNB\n",
    "from collections import Counter"
   ]
  },
  {
   "cell_type": "code",
   "execution_count": 50,
   "metadata": {},
   "outputs": [],
   "source": [
    "from sklearn.metrics import make_scorer"
   ]
  },
  {
   "cell_type": "code",
   "execution_count": 57,
   "metadata": {},
   "outputs": [],
   "source": [
    "gm=GaussianNB()"
   ]
  },
  {
   "cell_type": "code",
   "execution_count": 66,
   "metadata": {},
   "outputs": [
    {
     "ename": "AttributeError",
     "evalue": "'numpy.ndarray' object has no attribute 'toarray'",
     "output_type": "error",
     "traceback": [
      "\u001b[0;31m---------------------------------------------------------------------------\u001b[0m",
      "\u001b[0;31mAttributeError\u001b[0m                            Traceback (most recent call last)",
      "\u001b[0;32m<ipython-input-66-115ed427d34d>\u001b[0m in \u001b[0;36m<module>\u001b[0;34m\u001b[0m\n\u001b[0;32m----> 1\u001b[0;31m \u001b[0mx_train_bow\u001b[0m\u001b[0;34m=\u001b[0m\u001b[0mx_train_bow\u001b[0m\u001b[0;34m.\u001b[0m\u001b[0mtoarray\u001b[0m\u001b[0;34m(\u001b[0m\u001b[0;34m)\u001b[0m\u001b[0;34m\u001b[0m\u001b[0;34m\u001b[0m\u001b[0m\n\u001b[0m\u001b[1;32m      2\u001b[0m \u001b[0mx_text_bow\u001b[0m\u001b[0;34m=\u001b[0m\u001b[0mx_text_bow\u001b[0m\u001b[0;34m.\u001b[0m\u001b[0mtoarray\u001b[0m\u001b[0;34m(\u001b[0m\u001b[0;34m)\u001b[0m\u001b[0;34m\u001b[0m\u001b[0;34m\u001b[0m\u001b[0m\n\u001b[1;32m      3\u001b[0m \u001b[0;31m#here i ran again hence i got an error ..means the data is already an  array\u001b[0m\u001b[0;34m\u001b[0m\u001b[0;34m\u001b[0m\u001b[0;34m\u001b[0m\u001b[0m\n",
      "\u001b[0;31mAttributeError\u001b[0m: 'numpy.ndarray' object has no attribute 'toarray'"
     ]
    }
   ],
   "source": [
    "x_train_bow=x_train_bow.toarray()\n",
    "x_text_bow=x_text_bow.toarray()\n",
    "#here i ran again hence i got an error ..means the data is already an  array"
   ]
  },
  {
   "cell_type": "code",
   "execution_count": 128,
   "metadata": {},
   "outputs": [
    {
     "name": "stdout",
     "output_type": "stream",
     "text": [
      "Best cross-validation score: 0.77\n",
      "Best alpha parameters:  {'var_smoothing': 0.020417959183673468}\n",
      "CPU times: user 34.5 s, sys: 4.15 s, total: 38.7 s\n",
      "Wall time: 38.7 s\n"
     ]
    }
   ],
   "source": [
    "%%time\n",
    "parameters={\"var_smoothing\":np.linspace(0.00001,1,50)}\n",
    "clf=GridSearchCV(gm,param_grid=parameters,scoring=\"roc_auc\",return_train_score=True,cv=4)\n",
    "clf.fit(x_train_bow,y_train)\n",
    "print(\"Best cross-validation score: {:.2f}\".format(clf.best_score_))\n",
    "print(\"Best alpha parameters: \", clf.best_params_)"
   ]
  },
  {
   "cell_type": "code",
   "execution_count": 129,
   "metadata": {},
   "outputs": [
    {
     "data": {
      "text/plain": [
       "0.7664298176375299"
      ]
     },
     "execution_count": 129,
     "metadata": {},
     "output_type": "execute_result"
    }
   ],
   "source": [
    "clf.best_score_"
   ]
  },
  {
   "cell_type": "code",
   "execution_count": 130,
   "metadata": {},
   "outputs": [
    {
     "data": {
      "text/plain": [
       "{'var_smoothing': 0.020417959183673468}"
      ]
     },
     "execution_count": 130,
     "metadata": {},
     "output_type": "execute_result"
    }
   ],
   "source": [
    "clf.best_params_"
   ]
  },
  {
   "cell_type": "code",
   "execution_count": 131,
   "metadata": {},
   "outputs": [
    {
     "name": "stdout",
     "output_type": "stream",
     "text": [
      "[0.9364762  0.84315738 0.83799106 0.82809307 0.82226041 0.81807644\n",
      " 0.81459148 0.81168172 0.80940854 0.80771133 0.80621457 0.80482581\n",
      " 0.80336961 0.80212533 0.80103289 0.80006277 0.79906639 0.79825628\n",
      " 0.79751777 0.79679784 0.79607083 0.79541789 0.79479196 0.79420615\n",
      " 0.79369449 0.79320831 0.79273462 0.79228635 0.79189051 0.79148127\n",
      " 0.79109799 0.79071782 0.79034001 0.78997736 0.78957879 0.78919908\n",
      " 0.78882276 0.78846404 0.78814827 0.78786008 0.78755087 0.78726555\n",
      " 0.78696266 0.78664563 0.78638022 0.78614417 0.78590024 0.78563875\n",
      " 0.78541343 0.78516162]\n",
      "[0.00392845 0.02665651 0.01711084 0.01684834 0.01641066 0.01619851\n",
      " 0.01598154 0.01578907 0.01576739 0.01571004 0.01574046 0.01572265\n",
      " 0.01557882 0.01552434 0.01550012 0.01548039 0.01548625 0.01554357\n",
      " 0.01560825 0.01560389 0.01561196 0.01556813 0.01551799 0.01542927\n",
      " 0.01535496 0.01529984 0.01524951 0.01516752 0.0150961  0.0150774\n",
      " 0.01504966 0.01503166 0.01498889 0.01494198 0.0149225  0.01488258\n",
      " 0.01485945 0.01483066 0.01480407 0.01477181 0.01473123 0.01469415\n",
      " 0.01465906 0.01461678 0.01457323 0.01458546 0.01458139 0.01456994\n",
      " 0.01456362 0.01456159]\n",
      "[0.69271777 0.76642982 0.76218068 0.75880715 0.75808557 0.75737471\n",
      " 0.75913463 0.76003375 0.76043702 0.76020517 0.76003482 0.75993828\n",
      " 0.75986287 0.75992799 0.75999554 0.76013906 0.76034791 0.76034721\n",
      " 0.76046468 0.76055177 0.76080311 0.76105149 0.76135455 0.76152727\n",
      " 0.76153916 0.7615113  0.76145002 0.76143591 0.76137962 0.76122207\n",
      " 0.7611493  0.76118939 0.7610504  0.76093487 0.76079126 0.76072047\n",
      " 0.7605745  0.76047567 0.76044531 0.76036059 0.76033003 0.76022887\n",
      " 0.76018899 0.76004982 0.75999817 0.75989945 0.75974881 0.75970887\n",
      " 0.7596122  0.75952271]\n",
      "[0.03724308 0.02211615 0.0231764  0.0263454  0.02919281 0.03091448\n",
      " 0.03216904 0.03304663 0.033397   0.03354164 0.03346133 0.03356223\n",
      " 0.03374302 0.03382588 0.03393609 0.03428472 0.03418229 0.03414591\n",
      " 0.03398348 0.03388184 0.03363031 0.03363034 0.0335967  0.03354138\n",
      " 0.03345629 0.03349338 0.03353672 0.03360051 0.03369169 0.0338113\n",
      " 0.03390562 0.03390226 0.03397471 0.03406498 0.03413913 0.03413573\n",
      " 0.03419971 0.03428752 0.03437814 0.03439738 0.03446998 0.03460678\n",
      " 0.03470061 0.03473196 0.03477132 0.03487887 0.03489394 0.03495164\n",
      " 0.03492396 0.03496692]\n"
     ]
    }
   ],
   "source": [
    "alphas=list(np.linspace(0.00001,1,50))\n",
    "train_auc=clf.cv_results_[\"mean_train_score\"]\n",
    "train_auc_std= clf.cv_results_['std_train_score']\n",
    "cv_auc = clf.cv_results_['mean_test_score'] \n",
    "cv_auc_std= clf.cv_results_['std_test_score']\n",
    "print(train_auc)\n",
    "print(train_auc_std)\n",
    "print(cv_auc)\n",
    "print(cv_auc_std)"
   ]
  },
  {
   "cell_type": "code",
   "execution_count": 132,
   "metadata": {},
   "outputs": [
    {
     "data": {
      "image/png": "[encoded data removed]",
      "text/plain": [
       "<Figure size 432x288 with 1 Axes>"
      ]
     },
     "metadata": {
      "needs_background": "light"
     },
     "output_type": "display_data"
    }
   ],
   "source": [
    "sns.lineplot(alphas,train_auc)\n",
    "plt.plot(alphas, train_auc, label='Train AUC')\n",
    "# this code is copied from here: https://stackoverflow.com/a/48803361/4084039\n",
    "plt.gca().fill_between(alphas,train_auc - train_auc_std,train_auc + train_auc_std,alpha=0.2,color='darkblue')\n",
    "\n",
    "plt.plot(alphas, cv_auc, label='CV AUC')\n",
    "# this code is copied from here: https://stackoverflow.com/a/48803361/4084039\n",
    "plt.gca().fill_between(alphas,cv_auc - cv_auc_std,cv_auc + cv_auc_std,alpha=0.2,color='darkorange')\n",
    "plt.legend()\n",
    "plt.xlabel(\"K: hyperparameter\")\n",
    "plt.ylabel(\"AUC\")\n",
    "plt.title(\"ERROR PLOTS\")\n",
    "plt.show()\n",
    "plt.show()"
   ]
  },
  {
   "cell_type": "code",
   "execution_count": 141,
   "metadata": {},
   "outputs": [
    {
     "data": {
      "image/png": "[encoded data removed]",
      "text/plain": [
       "<Figure size 432x288 with 1 Axes>"
      ]
     },
     "metadata": {
      "needs_background": "light"
     },
     "output_type": "display_data"
    },
    {
     "name": "stdout",
     "output_type": "stream",
     "text": [
      "====================================================================================================\n",
      "Train confusion matrix\n",
      "[[  94  488]\n",
      " [  54 2861]]\n",
      "Test confusion matrix\n",
      "[[  24  205]\n",
      " [  40 1231]]\n"
     ]
    }
   ],
   "source": [
    "# https://scikit-learn.org/stable/modules/generated/sklearn.metrics.roc_curve.html#sklearn.metrics.roc_curve\n",
    "from sklearn.metrics import roc_curve, auc\n",
    "\n",
    "\n",
    "neigh = GaussianNB(var_smoothing=0.02)\n",
    "neigh.fit(x_train_bow, y_train)\n",
    "# roc_auc_score(y_true, y_score) the 2nd parameter should be probability estimates of the positive class\n",
    "# not the predicted outputs\n",
    "\n",
    "train_fpr, train_tpr, thresholds = roc_curve(y_train, neigh.predict_proba(x_train_bow)[:,1])\n",
    "test_fpr, test_tpr, thresholds = roc_curve(y_test, neigh.predict_proba(x_text_bow)[:,1])\n",
    "\n",
    "plt.plot(train_fpr, train_tpr, label=\"train AUC =\"+str(auc(train_fpr, train_tpr)))\n",
    "plt.plot(test_fpr, test_tpr, label=\"test AUC =\"+str(auc(test_fpr, test_tpr)))\n",
    "plt.legend()\n",
    "plt.xlabel(\"alphas: hyperparameter\")\n",
    "plt.ylabel(\"AUC\")\n",
    "plt.title(\"ERROR PLOTS\")\n",
    "plt.show()\n",
    "\n",
    "print(\"=\"*100)\n",
    "\n",
    "from sklearn.metrics import confusion_matrix\n",
    "print(\"Train confusion matrix\")\n",
    "print(confusion_matrix(y_train, neigh.predict(x_train_bow)))\n",
    "print(\"Test confusion matrix\")\n",
    "print(confusion_matrix(y_test, neigh.predict(x_text_bow)))"
   ]
  },
  {
   "cell_type": "code",
   "execution_count": null,
   "metadata": {},
   "outputs": [],
   "source": []
  }
 ],
 "metadata": {
  "kernelspec": {
   "display_name": "Python 3",
   "language": "python",
   "name": "python3"
  },
  "language_info": {
   "codemirror_mode": {
    "name": "ipython",
    "version": 3
   },
   "file_extension": ".py",
   "mimetype": "text/x-python",
   "name": "python",
   "nbconvert_exporter": "python",
   "pygments_lexer": "ipython3",
   "version": "3.7.6"
  }
 },
 "nbformat": 4,
 "nbformat_minor": 2
}
